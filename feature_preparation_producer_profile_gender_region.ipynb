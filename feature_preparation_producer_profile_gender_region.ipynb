{
 "cells": [
  {
   "cell_type": "markdown",
   "metadata": {},
   "source": [
    "# Addressing the Gender Gap in Agriculture in Peru through Financing and Training"
   ]
  },
  {
   "cell_type": "markdown",
   "metadata": {},
   "source": [
    "# Step by Step Dataset Preparation"
   ]
  },
  {
   "cell_type": "code",
   "execution_count": null,
   "metadata": {},
   "outputs": [],
   "source": [
    "import pandas as pd"
   ]
  },
  {
   "cell_type": "markdown",
   "metadata": {},
   "source": [
    "# Filtering the Datasets"
   ]
  },
  {
   "cell_type": "markdown",
   "metadata": {},
   "source": [
    "    # Agriculture Indicators:\n",
    "        - Objective: dataset filtered by year: 2012\n",
    "        - dataset path: df = pd.read_csv(r'C:\\Users\\jcbur\\OneDrive - peruvianbusinesscouncil.org\\csv files\\#11_python_final_assignment\\#2_bottomline datasets\\agriculture_indicators.csv')"
   ]
  },
  {
   "cell_type": "code",
   "execution_count": 11,
   "metadata": {},
   "outputs": [
    {
     "name": "stdout",
     "output_type": "stream",
     "text": [
      "    index  year  region_id    region  revenue_pen_2007  gdp_percent  \\\n",
      "18     19  2012          0  National          18476.16         5.55   \n",
      "\n",
      "    added_value_PEN07  harvested_mill_ha  crops_mill_ha  \n",
      "18              23944         3240581.89     1940062.87  \n"
     ]
    }
   ],
   "source": [
    "# Load the dataset\n",
    "df = pd.read_csv(r'C:\\Users\\jcbur\\OneDrive - peruvianbusinesscouncil.org\\csv files\\#11_python_final_assignment\\#2_bottomline datasets\\agriculture_indicators.csv')\n",
    "                 \n",
    "# Filter the dataset by region: National, year: 2012, and sector: Agricultura\n",
    "df_agriculture_indicators = df[(df['year'] == 2012)]\n",
    "                               \n",
    "# Print a success message\n",
    "print(df_agriculture_indicators)"
   ]
  },
  {
   "cell_type": "markdown",
   "metadata": {},
   "source": [
    "    # Natural disasters affecting crops (hectars): \n",
    "        Objective: dataset filtered by region: nacional, and year: 2012\n",
    "        Dataset Path: df = pd.read_csv(r'C:\\Users\\jcbur\\OneDrive - peruvianbusinesscouncil.org\\csv files\\#11_python_final_assignment\\#2_bottomline datasets\\natural_disasters_ha_may24.csv')"
   ]
  },
  {
   "cell_type": "code",
   "execution_count": 13,
   "metadata": {},
   "outputs": [
    {
     "name": "stdout",
     "output_type": "stream",
     "text": [
      "     index  year  region_id    region  crops_affected_by_disasters\n",
      "184    185  2012          0  Nacional                      45516.0\n"
     ]
    }
   ],
   "source": [
    "# Load the dataset\n",
    "df = pd.read_csv(r'C:\\Users\\jcbur\\OneDrive - peruvianbusinesscouncil.org\\csv files\\#11_python_final_assignment\\#2_bottomline datasets\\natural_disasters_ha_may24.csv')\n",
    "                 \n",
    "# Filter the dataset by region: National, year: 2012, and sector: Agricultura\n",
    "df_natural_disasters = df[(df['region'] == 'Nacional') & (df['year'] == 2012)]\n",
    "\n",
    "# Print a success message\n",
    "print(df_natural_disasters)"
   ]
  },
  {
   "cell_type": "markdown",
   "metadata": {},
   "source": [
    "    # Employment by Sector: \n",
    "        Objective: dataset filtered by region: nacional, year: 2012, and gender: men and women\n",
    "        Dataset Path: (r'C:\\Users\\jcbur\\OneDrive - peruvianbusinesscouncil.org\\csv files\\#11_python_final_assignment\\#2_bottomline datasets\\employment_sector_gender.csv')"
   ]
  },
  {
   "cell_type": "code",
   "execution_count": 5,
   "metadata": {},
   "outputs": [
    {
     "name": "stdout",
     "output_type": "stream",
     "text": [
      "     index  year  region_id    region  sector_id       sector  gender_id  \\\n",
      "652    653  2012        0.0  Nacional          1  Agricultura          2   \n",
      "653    654  2012        0.0  Nacional          1  Agricultura          1   \n",
      "\n",
      "      gender  employment_sectors_percentage  \n",
      "652  Mujeres                      21.177682  \n",
      "653  Hombres                      26.528040  \n"
     ]
    }
   ],
   "source": [
    "# Load the dataset\n",
    "df = pd.read_csv(r'C:\\Users\\jcbur\\OneDrive - peruvianbusinesscouncil.org\\csv files\\#11_python_final_assignment\\#2_bottomline datasets\\employment_sector_gender.csv')\n",
    "                 \n",
    "# Filter the dataset by region: National, year: 2012, and sector: Agricultura\n",
    "df_employment_agriculture = df[(df['region'] == 'Nacional') & (df['year'] == 2012) & (df['sector'] == 'Agricultura') & (df['gender'] != 'Total')]\n",
    "\n",
    "# Print a success message\n",
    "print(df_employment_agriculture)"
   ]
  },
  {
   "cell_type": "markdown",
   "metadata": {},
   "source": [
    "    # Producer Profile by Gender 2012: \n",
    "        Objective: dataset filtered by region: nacional\n",
    "        Dataset Path: df = pd.read_csv(r'C:\\Users\\jcbur\\OneDrive - peruvianbusinesscouncil.org\\csv files\\#11_python_final_assignment\\#2_bottomline datasets\\producer_profile_gender_gap_2012.csv')"
   ]
  },
  {
   "cell_type": "code",
   "execution_count": 14,
   "metadata": {},
   "outputs": [
    {
     "name": "stdout",
     "output_type": "stream",
     "text": [
      "     index  year  region_id    region  sector_id       sector  gender_id  \\\n",
      "652    653  2012        0.0  Nacional          1  Agricultura          2   \n",
      "653    654  2012        0.0  Nacional          1  Agricultura          1   \n",
      "\n",
      "      gender  employment_sectors_percentage  \n",
      "652  Mujeres                      21.177682  \n",
      "653  Hombres                      26.528040  \n"
     ]
    }
   ],
   "source": [
    "# Load the dataset\n",
    "df = pd.read_csv(r'C:\\Users\\jcbur\\OneDrive - peruvianbusinesscouncil.org\\csv files\\#11_python_final_assignment\\#2_bottomline datasets\\producer_profile_gender_gap_2012.csv')\n",
    "                 \n",
    "# Filter the dataset by region: National, year: 2012, and sector: Agricultura\n",
    "df_producer_profile = df[(df['region'] == 'Nacional')]\n",
    "\n",
    "# Print a success message\n",
    "print(df_employment_agriculture)"
   ]
  },
  {
   "cell_type": "markdown",
   "metadata": {},
   "source": [
    "# Concatenating Datasets"
   ]
  },
  {
   "cell_type": "markdown",
   "metadata": {},
   "source": [
    "    # Concatenate datasets\n",
    "        - Agricultural Indicators\n",
    "        - Agricultural Disasters "
   ]
  },
  {
   "cell_type": "code",
   "execution_count": 4,
   "metadata": {},
   "outputs": [
    {
     "name": "stdout",
     "output_type": "stream",
     "text": [
      "   year  region_id    region  revenue_pen_2007  gdp_percent  \\\n",
      "0  2012          0  National          18476.16         5.55   \n",
      "\n",
      "   added_value_PEN07  harvested_mill_ha  crops_mill_ha  \\\n",
      "0              23944         3240581.89     1940062.87   \n",
      "\n",
      "   crops_affected_by_disasters  \n",
      "0                      45516.0  \n"
     ]
    }
   ],
   "source": [
    "# Load the datasets\n",
    "file_path_1 = r'C:\\Users\\jcbur\\OneDrive - peruvianbusinesscouncil.org\\csv files\\#11_python_final_assignment\\#4_clean_datasets\\clean__agriculture_indicators_2012.csv'\n",
    "file_path_2 = r'C:\\Users\\jcbur\\OneDrive - peruvianbusinesscouncil.org\\csv files\\#11_python_final_assignment\\#4_clean_datasets\\clean_agriculture_disasters_2012.csv'\n",
    "\n",
    "df1 = pd.read_csv(file_path_1)\n",
    "df2 = pd.read_csv(file_path_2)\n",
    "\n",
    "# Concatenate the two DataFrames along columns\n",
    "df_combined = pd.concat([df1, df2], axis=1)\n",
    "\n",
    "# Drop the index column\n",
    "df_combined = df_combined.drop(columns=['index'])\n",
    "\n",
    "# Remove duplicates\n",
    "df_combined = df_combined.loc[:,~df_combined.columns.duplicated()]\n",
    "\n",
    "# Display the resulting DataFrame\n",
    "print(df_combined)\n"
   ]
  },
  {
   "cell_type": "markdown",
   "metadata": {},
   "source": [
    "    # Concatenate datasets\n",
    "        - Agricultural Employment\n",
    "        - Agricultural Producer Profile"
   ]
  },
  {
   "cell_type": "code",
   "execution_count": 6,
   "metadata": {},
   "outputs": [
    {
     "name": "stdout",
     "output_type": "stream",
     "text": [
      "   year  region_id    region  gender_id gender  producers_thousands  \\\n",
      "0  2012          0  Nacional          1    men             1554.781   \n",
      "1  2012          0  Nacional          2  women              691.921   \n",
      "\n",
      "   granted_loans_thousands  illiteracy_percent  postgraduate_percent  \\\n",
      "0                  145.989            8.884209              7.475265   \n",
      "1                   39.595           26.646106              6.545689   \n",
      "\n",
      "   primary_percent  ...    quechua    aymara  amazonia  \\\n",
      "0        63.799017  ...  29.632533  4.165088  2.643138   \n",
      "1        73.988938  ...  34.715668  5.887522  1.311999   \n",
      "\n",
      "   requested_loans_percent  trained_thousands  purpose_sales  \\\n",
      "0                  161.192            253.536      61.162552   \n",
      "1                   44.245             65.829      58.145469   \n",
      "\n",
      "   purpose_self_consumption  purpose_self_provision  purpose_animal_food  \\\n",
      "0                 16.360560                0.856673            21.620215   \n",
      "1                 22.096968                0.870926            18.886636   \n",
      "\n",
      "   employment_sectors_percentage  \n",
      "0                      21.177682  \n",
      "1                      26.528040  \n",
      "\n",
      "[2 rows x 29 columns]\n"
     ]
    }
   ],
   "source": [
    "# Load the datasets\n",
    "file_path_1 = r'C:\\Users\\jcbur\\OneDrive - peruvianbusinesscouncil.org\\csv files\\#11_python_final_assignment\\#4_clean_datasets\\clean_producer_profile.csv'\n",
    "file_path_2 = r'C:\\Users\\jcbur\\OneDrive - peruvianbusinesscouncil.org\\csv files\\#11_python_final_assignment\\#4_clean_datasets\\clean_agriculture_employment.csv'\n",
    "\n",
    "df1 = pd.read_csv(file_path_1)\n",
    "df2 = pd.read_csv(file_path_2)\n",
    "\n",
    "# Concatenate the two DataFrames along columns\n",
    "df_combined = pd.concat([df1, df2], axis=1)\n",
    "\n",
    "# Drop the index column\n",
    "df_combined = df_combined.drop(columns=['index'])\n",
    "df_combined = df_combined.drop(columns=['sector_id'])\n",
    "df_combined = df_combined.drop(columns=['sector'])\n",
    "\n",
    "# Remove duplicates\n",
    "df_combined = df_combined.loc[:,~df_combined.columns.duplicated()]\n",
    "\n",
    "# Display the resulting DataFrame\n",
    "print(df_combined)"
   ]
  },
  {
   "cell_type": "markdown",
   "metadata": {},
   "source": [
    "# Feature Analysis"
   ]
  },
  {
   "cell_type": "markdown",
   "metadata": {},
   "source": [
    "    # Combined Agriculture Indicators and Disasters"
   ]
  },
  {
   "cell_type": "code",
   "execution_count": 1,
   "metadata": {},
   "outputs": [
    {
     "name": "stdout",
     "output_type": "stream",
     "text": [
      "   year  region_id    region  revenue_pen_2007  gdp_percent  \\\n",
      "0  2012          0  National          18476.16         5.55   \n",
      "\n",
      "   added_value_PEN07  harvested_mill_ha  crops_mill_ha  \\\n",
      "0              23944         3240581.89     1940062.87   \n",
      "\n",
      "   crops_affected_by_disasters  \n",
      "0                      45516.0  \n",
      "         year  region_id  revenue_pen_2007  gdp_percent  added_value_PEN07  \\\n",
      "count     1.0        1.0              1.00         1.00                1.0   \n",
      "mean   2012.0        0.0          18476.16         5.55            23944.0   \n",
      "std       NaN        NaN               NaN          NaN                NaN   \n",
      "min    2012.0        0.0          18476.16         5.55            23944.0   \n",
      "25%    2012.0        0.0          18476.16         5.55            23944.0   \n",
      "50%    2012.0        0.0          18476.16         5.55            23944.0   \n",
      "75%    2012.0        0.0          18476.16         5.55            23944.0   \n",
      "max    2012.0        0.0          18476.16         5.55            23944.0   \n",
      "\n",
      "       harvested_mill_ha  crops_mill_ha  crops_affected_by_disasters  \n",
      "count               1.00           1.00                          1.0  \n",
      "mean          3240581.89     1940062.87                      45516.0  \n",
      "std                  NaN            NaN                          NaN  \n",
      "min           3240581.89     1940062.87                      45516.0  \n",
      "25%           3240581.89     1940062.87                      45516.0  \n",
      "50%           3240581.89     1940062.87                      45516.0  \n",
      "75%           3240581.89     1940062.87                      45516.0  \n",
      "max           3240581.89     1940062.87                      45516.0  \n",
      "<class 'pandas.core.frame.DataFrame'>\n",
      "RangeIndex: 1 entries, 0 to 0\n",
      "Data columns (total 9 columns):\n",
      " #   Column                       Non-Null Count  Dtype  \n",
      "---  ------                       --------------  -----  \n",
      " 0   year                         1 non-null      int64  \n",
      " 1   region_id                    1 non-null      int64  \n",
      " 2   region                       1 non-null      object \n",
      " 3   revenue_pen_2007             1 non-null      float64\n",
      " 4   gdp_percent                  1 non-null      float64\n",
      " 5   added_value_PEN07            1 non-null      int64  \n",
      " 6   harvested_mill_ha            1 non-null      float64\n",
      " 7   crops_mill_ha                1 non-null      float64\n",
      " 8   crops_affected_by_disasters  1 non-null      float64\n",
      "dtypes: float64(5), int64(3), object(1)\n",
      "memory usage: 204.0+ bytes\n",
      "None\n"
     ]
    }
   ],
   "source": [
    "import pandas as pd\n",
    "\n",
    "# Load the dataset\n",
    "data = pd.read_csv(r'C:\\Users\\jcbur\\OneDrive - peruvianbusinesscouncil.org\\csv files\\#11_python_final_assignment\\#5_merged_dataset\\concatenate_clean_agriculture_indicators_disasters_2012.csv')\n",
    "\n",
    "# Display the first few rows\n",
    "print(data.head())\n",
    "\n",
    "# Display the summary statistics\n",
    "print(data.describe())\n",
    "\n",
    "# Display the column names and types\n",
    "print(data.info())"
   ]
  },
  {
   "cell_type": "markdown",
   "metadata": {},
   "source": [
    "    # Combined Agricultural Producer and Employment"
   ]
  },
  {
   "cell_type": "code",
   "execution_count": 2,
   "metadata": {},
   "outputs": [
    {
     "name": "stdout",
     "output_type": "stream",
     "text": [
      "   year  region_id    region  gender_id gender  producers_thousands  \\\n",
      "0  2012          0  Nacional          1    men             1554.781   \n",
      "1  2012          0  Nacional          2  women              691.921   \n",
      "\n",
      "   granted_loans_thousands  illiteracy_percent  postgraduate_percent  \\\n",
      "0                  145.989            8.884209              7.475265   \n",
      "1                   39.595           26.646106              6.545689   \n",
      "\n",
      "   primary_percent  ...    quechua    aymara  amazonia  \\\n",
      "0        63.799017  ...  29.632533  4.165088  2.643138   \n",
      "1        73.988938  ...  34.715668  5.887522  1.311999   \n",
      "\n",
      "   requested_loans_percent  trained_thousands  purpose_sales  \\\n",
      "0                  161.192            253.536      61.162552   \n",
      "1                   44.245             65.829      58.145469   \n",
      "\n",
      "   purpose_self_consumption  purpose_self_provision  purpose_animal_food  \\\n",
      "0                 16.360560                0.856673            21.620215   \n",
      "1                 22.096968                0.870926            18.886636   \n",
      "\n",
      "   employment_sectors_percent  \n",
      "0                   21.177682  \n",
      "1                   26.528040  \n",
      "\n",
      "[2 rows x 29 columns]\n",
      "         year  region_id  gender_id  producers_thousands  \\\n",
      "count     2.0        2.0   2.000000             2.000000   \n",
      "mean   2012.0        0.0   1.500000          1123.351000   \n",
      "std       0.0        0.0   0.707107           610.134157   \n",
      "min    2012.0        0.0   1.000000           691.921000   \n",
      "25%    2012.0        0.0   1.250000           907.636000   \n",
      "50%    2012.0        0.0   1.500000          1123.351000   \n",
      "75%    2012.0        0.0   1.750000          1339.066000   \n",
      "max    2012.0        0.0   2.000000          1554.781000   \n",
      "\n",
      "       granted_loans_thousands  illiteracy_percent  postgraduate_percent  \\\n",
      "count                 2.000000            2.000000              2.000000   \n",
      "mean                 92.792000           17.765157              7.010477   \n",
      "std                  75.231919           12.559557              0.657309   \n",
      "min                  39.595000            8.884209              6.545689   \n",
      "25%                  66.193500           13.324683              6.778083   \n",
      "50%                  92.792000           17.765157              7.010477   \n",
      "75%                 119.390500           22.205632              7.242871   \n",
      "max                 145.989000           26.646106              7.475265   \n",
      "\n",
      "       primary_percent  secondary_percent  dont_need_loans_percent  ...  \\\n",
      "count         2.000000           2.000000                 2.000000  ...   \n",
      "mean         68.893978          24.095545                35.862693  ...   \n",
      "std           7.205362           6.548053                 1.349840  ...   \n",
      "min          63.799017          19.465372                34.908212  ...   \n",
      "25%          66.346498          21.780459                35.385452  ...   \n",
      "50%          68.893978          24.095545                35.862693  ...   \n",
      "75%          71.441458          26.410631                36.339933  ...   \n",
      "max          73.988938          28.725718                36.817174  ...   \n",
      "\n",
      "         quechua    aymara  amazonia  requested_loans_percent  \\\n",
      "count   2.000000  2.000000  2.000000                 2.000000   \n",
      "mean   32.174101  5.026305  1.977569               102.718500   \n",
      "std     3.594319  1.217945  0.941257                82.694017   \n",
      "min    29.632533  4.165088  1.311999                44.245000   \n",
      "25%    30.903317  4.595697  1.644784                73.481750   \n",
      "50%    32.174101  5.026305  1.977569               102.718500   \n",
      "75%    33.444885  5.456913  2.310353               131.955250   \n",
      "max    34.715668  5.887522  2.643138               161.192000   \n",
      "\n",
      "       trained_thousands  purpose_sales  purpose_self_consumption  \\\n",
      "count           2.000000       2.000000                  2.000000   \n",
      "mean          159.682500      59.654010                 19.228764   \n",
      "std           132.728893       2.133400                  4.056253   \n",
      "min            65.829000      58.145469                 16.360560   \n",
      "25%           112.755750      58.899740                 17.794662   \n",
      "50%           159.682500      59.654010                 19.228764   \n",
      "75%           206.609250      60.408281                 20.662866   \n",
      "max           253.536000      61.162552                 22.096968   \n",
      "\n",
      "       purpose_self_provision  purpose_animal_food  employment_sectors_percent  \n",
      "count                2.000000             2.000000                    2.000000  \n",
      "mean                 0.863800            20.253426                   23.852861  \n",
      "std                  0.010079             1.932932                    3.783275  \n",
      "min                  0.856673            18.886636                   21.177682  \n",
      "25%                  0.860236            19.570031                   22.515272  \n",
      "50%                  0.863800            20.253426                   23.852861  \n",
      "75%                  0.867363            20.936820                   25.190451  \n",
      "max                  0.870926            21.620215                   26.528040  \n",
      "\n",
      "[8 rows x 27 columns]\n",
      "<class 'pandas.core.frame.DataFrame'>\n",
      "RangeIndex: 2 entries, 0 to 1\n",
      "Data columns (total 29 columns):\n",
      " #   Column                      Non-Null Count  Dtype  \n",
      "---  ------                      --------------  -----  \n",
      " 0   year                        2 non-null      int64  \n",
      " 1   region_id                   2 non-null      int64  \n",
      " 2   region                      2 non-null      object \n",
      " 3   gender_id                   2 non-null      int64  \n",
      " 4   gender                      2 non-null      object \n",
      " 5   producers_thousands         2 non-null      float64\n",
      " 6   granted_loans_thousands     2 non-null      float64\n",
      " 7   illiteracy_percent          2 non-null      float64\n",
      " 8   postgraduate_percent        2 non-null      float64\n",
      " 9   primary_percent             2 non-null      float64\n",
      " 10  secondary_percent           2 non-null      float64\n",
      " 11  dont_need_loans_percent     2 non-null      float64\n",
      " 12  high_interest_percent       2 non-null      float64\n",
      " 13  no_collateral_percent       2 non-null      float64\n",
      " 14  other_reasons_percent       2 non-null      float64\n",
      " 15  red_tape_percent            2 non-null      float64\n",
      " 16  will_not_get_it_percent     2 non-null      float64\n",
      " 17  affiliation_percent         2 non-null      float64\n",
      " 18  spanish                     2 non-null      float64\n",
      " 19  quechua                     2 non-null      float64\n",
      " 20  aymara                      2 non-null      float64\n",
      " 21  amazonia                    2 non-null      float64\n",
      " 22  requested_loans_percent     2 non-null      float64\n",
      " 23  trained_thousands           2 non-null      float64\n",
      " 24  purpose_sales               2 non-null      float64\n",
      " 25  purpose_self_consumption    2 non-null      float64\n",
      " 26  purpose_self_provision      2 non-null      float64\n",
      " 27  purpose_animal_food         2 non-null      float64\n",
      " 28  employment_sectors_percent  2 non-null      float64\n",
      "dtypes: float64(24), int64(3), object(2)\n",
      "memory usage: 596.0+ bytes\n",
      "None\n"
     ]
    }
   ],
   "source": [
    "import pandas as pd\n",
    "\n",
    "# Load the dataset\n",
    "data = pd.read_csv(r'C:\\Users\\jcbur\\OneDrive - peruvianbusinesscouncil.org\\csv files\\#11_python_final_assignment\\#5_merged_dataset\\concatenate_clean_agriculture_producer_employment.csv')\n",
    "\n",
    "# Display the first few rows\n",
    "print(data.head())\n",
    "\n",
    "# Display the summary statistics\n",
    "print(data.describe())\n",
    "\n",
    "# Display the column names and types\n",
    "print(data.info())"
   ]
  },
  {
   "cell_type": "markdown",
   "metadata": {},
   "source": [
    "# Feature Development "
   ]
  },
  {
   "cell_type": "markdown",
   "metadata": {},
   "source": [
    "    # Existing Features"
   ]
  },
  {
   "cell_type": "code",
   "execution_count": null,
   "metadata": {},
   "outputs": [],
   "source": [
    "jhg"
   ]
  },
  {
   "cell_type": "markdown",
   "metadata": {},
   "source": [
    "    # New Features"
   ]
  },
  {
   "cell_type": "code",
   "execution_count": null,
   "metadata": {},
   "outputs": [],
   "source": [
    "kjghkj"
   ]
  },
  {
   "cell_type": "markdown",
   "metadata": {},
   "source": [
    "# Hyper Parameters"
   ]
  }
 ],
 "metadata": {
  "kernelspec": {
   "display_name": "Python 3",
   "language": "python",
   "name": "python3"
  },
  "language_info": {
   "codemirror_mode": {
    "name": "ipython",
    "version": 3
   },
   "file_extension": ".py",
   "mimetype": "text/x-python",
   "name": "python",
   "nbconvert_exporter": "python",
   "pygments_lexer": "ipython3",
   "version": "3.12.3"
  }
 },
 "nbformat": 4,
 "nbformat_minor": 2
}
