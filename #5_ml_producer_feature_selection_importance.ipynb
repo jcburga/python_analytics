{
 "cells": [
  {
   "cell_type": "markdown",
   "metadata": {},
   "source": [
    "# Model Selection and & Model Fitting"
   ]
  },
  {
   "cell_type": "code",
   "execution_count": 1,
   "metadata": {},
   "outputs": [
    {
     "name": "stdout",
     "output_type": "stream",
     "text": [
      "Feature ranking:\n",
      "language_spanish_percent: 0.3210136077567078\n",
      "illiteracy_percent: 0.17804733611080484\n",
      "language_aymara_percent: 0.0882685751952421\n",
      "employment_agriculture_percent: 0.06844365758218939\n",
      "education_primary_completed_percent: 0.06412938747994443\n",
      "producers_numerical: 0.061411208554358075\n",
      "language_quechua_percent: 0.05619695403992576\n",
      "education_secondary_completed_percent: 0.04351199317642433\n",
      "granted_loans_percent: 0.034491283300541756\n",
      "requested_loans_percent: 0.02729370609048746\n",
      "language_amazonia_percent: 0.022402207529327863\n",
      "belongs_producers_association_percent: 0.018921675385336022\n",
      "trained_percent: 0.01586840779871022\n"
     ]
    }
   ],
   "source": [
    "import pandas as pd\n",
    "from sklearn.ensemble import RandomForestRegressor\n",
    "import numpy as np\n",
    "\n",
    "# Load the dataset\n",
    "df = pd.read_csv(r'C:\\Users\\jcbur\\OneDrive - peruvianbusinesscouncil.org\\csv files\\#11_python_final_assignment\\#6_statystical_ratios\\ml_producer_profile_selected_features.csv')\n",
    "\n",
    "# Define your features and target variable\n",
    "X = df[['producers_numerical', 'granted_loans_percent', 'requested_loans_percent', 'trained_percent', 'employment_agriculture_percent', 'illiteracy_percent', 'education_primary_completed_percent', 'education_secondary_completed_percent', 'belongs_producers_association_percent', 'language_spanish_percent', 'language_quechua_percent', 'language_aymara_percent', 'language_amazonia_percent']]  # Features\n",
    "y = df['category_region_id']  # Target variable\n",
    "\n",
    "# Initialize the model\n",
    "model = RandomForestRegressor(random_state=1, max_depth=10)\n",
    "\n",
    "# Fit the model\n",
    "model.fit(X, y)\n",
    "\n",
    "# Get feature importances\n",
    "importances = model.feature_importances_\n",
    "\n",
    "# Sort features by importance\n",
    "sorted_indices = np.argsort(importances)[::-1]\n",
    "\n",
    "print(\"Feature ranking:\")\n",
    "\n",
    "for i in range(X.shape[1]):\n",
    "    print(f\"{X.columns[sorted_indices[i]]}: {importances[sorted_indices[i]]}\")\n",
    "\n"
   ]
  },
  {
   "cell_type": "code",
   "execution_count": 7,
   "metadata": {},
   "outputs": [
    {
     "name": "stdout",
     "output_type": "stream",
     "text": [
      "Mean Squared Error: 37.72796000000001\n"
     ]
    }
   ],
   "source": [
    "from sklearn.model_selection import train_test_split\n",
    "from sklearn.ensemble import RandomForestRegressor\n",
    "from sklearn.metrics import mean_squared_error\n",
    "\n",
    "# Define your features and target variable\n",
    "X = df[['producers_numerical', 'granted_loans_percent', 'requested_loans_percent', 'trained_percent', 'employment_agriculture_percent', 'illiteracy_percent', 'education_primary_completed_percent', 'education_secondary_completed_percent', 'belongs_producers_association_percent', 'language_spanish_percent', 'language_quechua_percent', 'language_aymara_percent', 'language_amazonia_percent']]  # Features\n",
    "y = df['category_region_id']  # Target variable\n",
    "\n",
    "# Split the data into training set and test set\n",
    "X_train, X_test, y_train, y_test = train_test_split(X, y, test_size=0.2, random_state=42)\n",
    "\n",
    "# Initialize the model\n",
    "model = RandomForestRegressor(random_state=1, max_depth=10)\n",
    "\n",
    "# Fit the model on the training set\n",
    "model.fit(X_train, y_train)\n",
    "\n",
    "# Predict on the test set\n",
    "y_pred = model.predict(X_test)\n",
    "\n",
    "# Evaluate the model\n",
    "mse = mean_squared_error(y_test, y_pred)\n",
    "print(f\"Mean Squared Error: {mse}\")"
   ]
  }
 ],
 "metadata": {
  "kernelspec": {
   "display_name": "Python 3",
   "language": "python",
   "name": "python3"
  },
  "language_info": {
   "codemirror_mode": {
    "name": "ipython",
    "version": 3
   },
   "file_extension": ".py",
   "mimetype": "text/x-python",
   "name": "python",
   "nbconvert_exporter": "python",
   "pygments_lexer": "ipython3",
   "version": "3.12.3"
  }
 },
 "nbformat": 4,
 "nbformat_minor": 2
}
