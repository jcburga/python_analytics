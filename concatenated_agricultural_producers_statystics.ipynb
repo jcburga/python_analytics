{
 "cells": [
  {
   "cell_type": "code",
   "execution_count": 1,
   "metadata": {},
   "outputs": [],
   "source": [
    "# Loaded variable 'df' from URI: c:\\Users\\jcbur\\OneDrive - peruvianbusinesscouncil.org\\csv files\\#11_python_final_assignment\\#5_combined_dataset\\concatenate_clean_agriculture_producer_employment.csv\n",
    "import pandas as pd\n",
    "df = pd.read_csv(r'c:\\Users\\jcbur\\OneDrive - peruvianbusinesscouncil.org\\csv files\\#11_python_final_assignment\\#5_combined_dataset\\concatenate_clean_agriculture_producer_employment.csv')"
   ]
  },
  {
   "cell_type": "code",
   "execution_count": 2,
   "metadata": {},
   "outputs": [
    {
     "name": "stdout",
     "output_type": "stream",
     "text": [
      "First 5 rows of the dataframe:\n",
      "   category_index  category_year  category_region_id category_region  \\\n",
      "0               1           2012                   0        Nacional   \n",
      "1               2           2012                   0        Nacional   \n",
      "2               3           2012                   0        Nacional   \n",
      "3               4           2012                   1        Amazonas   \n",
      "4               5           2012                   1        Amazonas   \n",
      "\n",
      "   category_gender_id category_gender  producers_numerical  \\\n",
      "0                   0      gender gap             -862.860   \n",
      "1                   1             men             1554.781   \n",
      "2                   2           women              691.921   \n",
      "3                   0      gender gap              -42.965   \n",
      "4                   1             men               56.037   \n",
      "\n",
      "   granted_loans_percent  requested_loans_percent  trained_percent  ...  \\\n",
      "0              -3.667208                -3.972989        -6.792915  ...   \n",
      "1               9.389683                10.367505        16.306863  ...   \n",
      "2               5.722474                 6.394516         9.513947  ...   \n",
      "3              -3.374425                -3.645250        -5.940037  ...   \n",
      "4               6.923997                 7.868016        14.699217  ...   \n",
      "\n",
      "   belongs_producers_association_percent  language_spanish_percent  \\\n",
      "0                              -1.276259                 -5.474431   \n",
      "1                              23.311000                 63.559241   \n",
      "2                              22.034741                 58.084810   \n",
      "3                              -0.685620                 -3.233657   \n",
      "4                              14.417260                 81.706729   \n",
      "\n",
      "   language_quechua_percent  language_aymara_percent  \\\n",
      "0                  5.083135                 1.722434   \n",
      "1                 29.632533                 4.165088   \n",
      "2                 34.715668                 5.887522   \n",
      "3                 -0.008397                -0.003057   \n",
      "4                  0.069597                 0.010707   \n",
      "\n",
      "   language_amazonia_percent  purpose_sales_percent  \\\n",
      "0                  -1.331138              -3.017083   \n",
      "1                   2.643138              61.162552   \n",
      "2                   1.311999              58.145469   \n",
      "3                   3.245112               7.010640   \n",
      "4                  18.212966              55.446136   \n",
      "\n",
      "   purpose_self_consumption_percent  purpose_self_provision_percent  \\\n",
      "0                          5.736409                        0.014254   \n",
      "1                         16.360560                        0.856673   \n",
      "2                         22.096968                        0.870926   \n",
      "3                          5.097241                        0.013484   \n",
      "4                          9.726324                        0.824017   \n",
      "\n",
      "   purpose_animal_food_percent  employment_agriculture_percent  \n",
      "0                    -2.733579                       -5.350359  \n",
      "1                    21.620215                       26.528040  \n",
      "2                    18.886636                       21.177682  \n",
      "3                   -12.121365                      -14.619451  \n",
      "4                    34.003523                       66.399734  \n",
      "\n",
      "[5 rows x 29 columns]\n"
     ]
    }
   ],
   "source": [
    "# Display the first 5 rows of the dataframe\n",
    "print(\"First 5 rows of the dataframe:\")\n",
    "print(df.head())"
   ]
  },
  {
   "cell_type": "code",
   "execution_count": 3,
   "metadata": {},
   "outputs": [
    {
     "name": "stdout",
     "output_type": "stream",
     "text": [
      "\n",
      "Shape of the dataframe:\n",
      "(75, 29)\n"
     ]
    }
   ],
   "source": [
    "# Display the shape of the dataframe\n",
    "print(\"\\nShape of the dataframe:\")\n",
    "print(df.shape)"
   ]
  },
  {
   "cell_type": "code",
   "execution_count": 4,
   "metadata": {},
   "outputs": [
    {
     "name": "stdout",
     "output_type": "stream",
     "text": [
      "\n",
      "Column names:\n",
      "Index(['category_index', 'category_year', 'category_region_id',\n",
      "       'category_region', 'category_gender_id', 'category_gender',\n",
      "       'producers_numerical', 'granted_loans_percent',\n",
      "       'requested_loans_percent', 'trained_percent', 'illiteracy_percent',\n",
      "       'education_primary_completed_percent',\n",
      "       'education_secondary_completed_percent', 'don’t_need_loans_percent',\n",
      "       'high_interests_percent', 'no_collateral_percent',\n",
      "       'other_reasons_percent', 'red_tape_percent', 'will_not_get_it_percent',\n",
      "       'belongs_producers_association_percent', 'language_spanish_percent',\n",
      "       'language_quechua_percent', 'language_aymara_percent',\n",
      "       'language_amazonia_percent', 'purpose_sales_percent',\n",
      "       'purpose_self_consumption_percent', 'purpose_self_provision_percent',\n",
      "       'purpose_animal_food_percent', 'employment_agriculture_percent'],\n",
      "      dtype='object')\n"
     ]
    }
   ],
   "source": [
    "# Display the column names\n",
    "print(\"\\nColumn names:\")\n",
    "print(df.columns)"
   ]
  },
  {
   "cell_type": "code",
   "execution_count": 5,
   "metadata": {},
   "outputs": [
    {
     "name": "stdout",
     "output_type": "stream",
     "text": [
      "\n",
      "Data types of each column:\n",
      "category_index                             int64\n",
      "category_year                              int64\n",
      "category_region_id                         int64\n",
      "category_region                           object\n",
      "category_gender_id                         int64\n",
      "category_gender                           object\n",
      "producers_numerical                      float64\n",
      "granted_loans_percent                    float64\n",
      "requested_loans_percent                  float64\n",
      "trained_percent                          float64\n",
      "illiteracy_percent                       float64\n",
      "education_primary_completed_percent      float64\n",
      "education_secondary_completed_percent    float64\n",
      "don’t_need_loans_percent                 float64\n",
      "high_interests_percent                   float64\n",
      "no_collateral_percent                    float64\n",
      "other_reasons_percent                    float64\n",
      "red_tape_percent                         float64\n",
      "will_not_get_it_percent                  float64\n",
      "belongs_producers_association_percent    float64\n",
      "language_spanish_percent                 float64\n",
      "language_quechua_percent                 float64\n",
      "language_aymara_percent                  float64\n",
      "language_amazonia_percent                float64\n",
      "purpose_sales_percent                    float64\n",
      "purpose_self_consumption_percent         float64\n",
      "purpose_self_provision_percent           float64\n",
      "purpose_animal_food_percent              float64\n",
      "employment_agriculture_percent           float64\n",
      "dtype: object\n"
     ]
    }
   ],
   "source": [
    "# Display the data types of each column\n",
    "print(\"\\nData types of each column:\")\n",
    "print(df.dtypes)"
   ]
  },
  {
   "cell_type": "code",
   "execution_count": 6,
   "metadata": {},
   "outputs": [
    {
     "name": "stdout",
     "output_type": "stream",
     "text": [
      "\n",
      "Summary statistics of the dataframe:\n",
      "       category_index  category_year  category_region_id  category_gender_id  \\\n",
      "count       75.000000           75.0           75.000000           75.000000   \n",
      "mean        38.000000         2012.0           12.760000            1.000000   \n",
      "std         21.794495            0.0            7.583481            0.821995   \n",
      "min          1.000000         2012.0            0.000000            0.000000   \n",
      "25%         19.500000         2012.0            7.000000            0.000000   \n",
      "50%         38.000000         2012.0           13.000000            1.000000   \n",
      "75%         56.500000         2012.0           19.000000            2.000000   \n",
      "max         75.000000         2012.0           25.000000            2.000000   \n",
      "\n",
      "       producers_numerical  granted_loans_percent  requested_loans_percent  \\\n",
      "count            75.000000              75.000000                75.000000   \n",
      "mean             36.859920               5.233254                 5.807589   \n",
      "std             226.038196               8.497005                 8.992488   \n",
      "min            -862.860000              -9.403240                -9.708289   \n",
      "25%             -15.999500              -1.642479                -1.829281   \n",
      "50%              12.953000               4.932483                 5.629928   \n",
      "75%              53.852000              10.264569                11.140959   \n",
      "max            1554.781000              34.116282                35.319704   \n",
      "\n",
      "       trained_percent  illiteracy_percent  \\\n",
      "count        75.000000           75.000000   \n",
      "mean          8.768654           14.263515   \n",
      "std          13.174232            9.920420   \n",
      "min         -13.662071            1.527465   \n",
      "25%          -4.766257            6.687886   \n",
      "50%           9.786533           11.817279   \n",
      "75%          18.562820           19.572083   \n",
      "max          38.454766           42.032988   \n",
      "\n",
      "       education_primary_completed_percent  ...  \\\n",
      "count                            75.000000  ...   \n",
      "mean                             45.935395  ...   \n",
      "std                              27.625221  ...   \n",
      "min                               2.541008  ...   \n",
      "25%                              13.236291  ...   \n",
      "50%                              52.656823  ...   \n",
      "75%                              70.847559  ...   \n",
      "max                              83.821607  ...   \n",
      "\n",
      "       belongs_producers_association_percent  language_spanish_percent  \\\n",
      "count                              75.000000                 75.000000   \n",
      "mean                               18.219931                 44.155622   \n",
      "std                                21.961955                 40.439881   \n",
      "min                                -5.941768                 -7.790141   \n",
      "25%                                 0.072917                  1.269545   \n",
      "50%                                11.148567                 56.100834   \n",
      "75%                                25.480645                 80.445148   \n",
      "max                                72.512157                 99.855009   \n",
      "\n",
      "       language_quechua_percent  language_aymara_percent  \\\n",
      "count                 75.000000                75.000000   \n",
      "mean                  17.613940                 2.611813   \n",
      "std                   27.820979                 8.766668   \n",
      "min                   -3.892286                -2.432260   \n",
      "25%                    0.163291                 0.003497   \n",
      "50%                    3.247454                 0.019693   \n",
      "75%                   20.185390                 0.077986   \n",
      "max                   90.356732                45.927702   \n",
      "\n",
      "       language_amazonia_percent  purpose_sales_percent  \\\n",
      "count                  75.000000              75.000000   \n",
      "mean                    2.285292              39.724386   \n",
      "std                     6.370909              32.737221   \n",
      "min                    -7.679097             -15.021817   \n",
      "25%                     0.008288               3.973476   \n",
      "50%                     0.115306              47.905104   \n",
      "75%                     1.089798              65.034643   \n",
      "max                    31.061189              99.467693   \n",
      "\n",
      "       purpose_self_consumption_percent  purpose_self_provision_percent  \\\n",
      "count                         75.000000                       75.000000   \n",
      "mean                          13.232958                        0.718971   \n",
      "std                           13.676570                        1.252957   \n",
      "min                           -6.673912                       -2.457419   \n",
      "25%                            3.499035                        0.012457   \n",
      "50%                            8.799961                        0.396913   \n",
      "75%                           21.745295                        0.901298   \n",
      "max                           48.262558                        6.865208   \n",
      "\n",
      "       purpose_animal_food_percent  employment_agriculture_percent  \n",
      "count                    75.000000                       75.000000  \n",
      "mean                     12.990351                       19.478989  \n",
      "std                      15.613468                       24.361076  \n",
      "min                     -13.031019                      -25.861435  \n",
      "25%                      -0.023715                       -1.726235  \n",
      "50%                      11.478495                       19.307321  \n",
      "75%                      21.751187                       36.958568  \n",
      "max                      52.782028                       69.092800  \n",
      "\n",
      "[8 rows x 27 columns]\n"
     ]
    }
   ],
   "source": [
    "# Display summary statistics of the dataframe\n",
    "print(\"\\nSummary statistics of the dataframe:\")\n",
    "print(df.describe())"
   ]
  },
  {
   "cell_type": "code",
   "execution_count": 7,
   "metadata": {},
   "outputs": [
    {
     "name": "stdout",
     "output_type": "stream",
     "text": [
      "\n",
      "Number of missing values in each column:\n",
      "category_index                           0\n",
      "category_year                            0\n",
      "category_region_id                       0\n",
      "category_region                          0\n",
      "category_gender_id                       0\n",
      "category_gender                          0\n",
      "producers_numerical                      0\n",
      "granted_loans_percent                    0\n",
      "requested_loans_percent                  0\n",
      "trained_percent                          0\n",
      "illiteracy_percent                       0\n",
      "education_primary_completed_percent      0\n",
      "education_secondary_completed_percent    0\n",
      "don’t_need_loans_percent                 0\n",
      "high_interests_percent                   0\n",
      "no_collateral_percent                    0\n",
      "other_reasons_percent                    0\n",
      "red_tape_percent                         0\n",
      "will_not_get_it_percent                  0\n",
      "belongs_producers_association_percent    0\n",
      "language_spanish_percent                 0\n",
      "language_quechua_percent                 0\n",
      "language_aymara_percent                  0\n",
      "language_amazonia_percent                0\n",
      "purpose_sales_percent                    0\n",
      "purpose_self_consumption_percent         0\n",
      "purpose_self_provision_percent           0\n",
      "purpose_animal_food_percent              0\n",
      "employment_agriculture_percent           0\n",
      "dtype: int64\n"
     ]
    }
   ],
   "source": [
    "# Display the number of missing values in each column\n",
    "print(\"\\nNumber of missing values in each column:\")\n",
    "print(df.isnull().sum())"
   ]
  },
  {
   "cell_type": "code",
   "execution_count": 8,
   "metadata": {},
   "outputs": [
    {
     "name": "stdout",
     "output_type": "stream",
     "text": [
      "\n",
      "Number of unique values in each column:\n",
      "category_index                           75\n",
      "category_year                             1\n",
      "category_region_id                       25\n",
      "category_region                          25\n",
      "category_gender_id                        3\n",
      "category_gender                           3\n",
      "producers_numerical                      75\n",
      "granted_loans_percent                    75\n",
      "requested_loans_percent                  75\n",
      "trained_percent                          75\n",
      "illiteracy_percent                       75\n",
      "education_primary_completed_percent      75\n",
      "education_secondary_completed_percent    72\n",
      "don’t_need_loans_percent                 75\n",
      "high_interests_percent                   75\n",
      "no_collateral_percent                    75\n",
      "other_reasons_percent                    75\n",
      "red_tape_percent                         75\n",
      "will_not_get_it_percent                  75\n",
      "belongs_producers_association_percent    75\n",
      "language_spanish_percent                 75\n",
      "language_quechua_percent                 73\n",
      "language_aymara_percent                  69\n",
      "language_amazonia_percent                75\n",
      "purpose_sales_percent                    75\n",
      "purpose_self_consumption_percent         75\n",
      "purpose_self_provision_percent           75\n",
      "purpose_animal_food_percent              75\n",
      "employment_agriculture_percent           75\n",
      "dtype: int64\n"
     ]
    }
   ],
   "source": [
    "# Display the number of unique values in each column\n",
    "print(\"\\nNumber of unique values in each column:\")\n",
    "print(df.nunique())"
   ]
  }
 ],
 "metadata": {
  "kernelspec": {
   "display_name": "Python 3",
   "language": "python",
   "name": "python3"
  },
  "language_info": {
   "codemirror_mode": {
    "name": "ipython",
    "version": 3
   },
   "file_extension": ".py",
   "mimetype": "text/x-python",
   "name": "python",
   "nbconvert_exporter": "python",
   "pygments_lexer": "ipython3",
   "version": "3.12.3"
  }
 },
 "nbformat": 4,
 "nbformat_minor": 2
}
