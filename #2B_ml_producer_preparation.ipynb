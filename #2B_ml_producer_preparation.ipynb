{
 "cells": [
  {
   "cell_type": "markdown",
   "metadata": {},
   "source": [
    "# Import Pandas"
   ]
  },
  {
   "cell_type": "code",
   "execution_count": 1,
   "metadata": {},
   "outputs": [],
   "source": [
    "import pandas as pd"
   ]
  },
  {
   "cell_type": "markdown",
   "metadata": {},
   "source": [
    "# Selecting Tools for Preparation"
   ]
  },
  {
   "cell_type": "code",
   "execution_count": 2,
   "metadata": {},
   "outputs": [],
   "source": [
    "from sklearn.preprocessing import StandardScaler\n",
    "from sklearn.calibration import LabelEncoder\n",
    "from sklearn.impute import SimpleImputer"
   ]
  },
  {
   "cell_type": "markdown",
   "metadata": {},
   "source": [
    "# Loading the Dataset"
   ]
  },
  {
   "cell_type": "code",
   "execution_count": 3,
   "metadata": {},
   "outputs": [
    {
     "name": "stdout",
     "output_type": "stream",
     "text": [
      "    category_index  category_year  category_region_id category_region  \\\n",
      "0                1           2012                   0        Nacional   \n",
      "1                2           2012                   0        Nacional   \n",
      "2                3           2012                   0        Nacional   \n",
      "3                4           2012                   1        Amazonas   \n",
      "4                5           2012                   1        Amazonas   \n",
      "..             ...            ...                 ...             ...   \n",
      "70              71           2012                  24          Tumbes   \n",
      "71              72           2012                  24          Tumbes   \n",
      "72              73           2012                  25         Ucayali   \n",
      "73              74           2012                  25         Ucayali   \n",
      "74              75           2012                  25         Ucayali   \n",
      "\n",
      "    category_gender_id category_gender  producers_numerical  \\\n",
      "0                    0      gender gap             -862.860   \n",
      "1                    1             men             1554.781   \n",
      "2                    2           women              691.921   \n",
      "3                    0      gender gap              -42.965   \n",
      "4                    1             men               56.037   \n",
      "..                 ...             ...                  ...   \n",
      "70                   1             men                6.897   \n",
      "71                   2           women                1.237   \n",
      "72                   0      gender gap              -16.276   \n",
      "73                   1             men               20.788   \n",
      "74                   2           women                4.512   \n",
      "\n",
      "    granted_loans_percent  requested_loans_percent  trained_percent  ...  \\\n",
      "0               -3.667208                -3.972989        -6.792915  ...   \n",
      "1                9.389683                10.367505        16.306863  ...   \n",
      "2                5.722474                 6.394516         9.513947  ...   \n",
      "3               -3.374425                -3.645250        -5.940037  ...   \n",
      "4                6.923997                 7.868016        14.699217  ...   \n",
      "..                    ...                      ...              ...  ...   \n",
      "70              34.116282                35.319704        28.940119  ...   \n",
      "71              26.354082                27.647534        22.554568  ...   \n",
      "72               1.575377                 1.582303        -0.261863  ...   \n",
      "73               9.062921                11.006350        23.932076  ...   \n",
      "74              10.638298                12.588652        23.670213  ...   \n",
      "\n",
      "    belongs_producers_association_percent  language_spanish_percent  \\\n",
      "0                               -1.276259                 -5.474431   \n",
      "1                               23.311000                 63.559241   \n",
      "2                               22.034741                 58.084810   \n",
      "3                               -0.685620                 -3.233657   \n",
      "4                               14.417260                 81.706729   \n",
      "..                                    ...                       ...   \n",
      "70                              49.760766                 99.855009   \n",
      "71                              46.079224                 99.838318   \n",
      "72                               1.255767                  7.327323   \n",
      "73                              13.527035                 65.855301   \n",
      "74                              14.782801                 73.182624   \n",
      "\n",
      "    language_quechua_percent  language_aymara_percent  \\\n",
      "0                   5.083135                 1.722434   \n",
      "1                  29.632533                 4.165088   \n",
      "2                  34.715668                 5.887522   \n",
      "3                  -0.008397                -0.003057   \n",
      "4                   0.069597                 0.010707   \n",
      "..                       ...                      ...   \n",
      "70                  0.000000                 0.000000   \n",
      "71                  0.000000                 0.000000   \n",
      "72                  0.350742                 0.001032   \n",
      "73                  3.040216                 0.043294   \n",
      "74                  3.390957                 0.044326   \n",
      "\n",
      "    language_amazonia_percent  purpose_sales_percent  \\\n",
      "0                   -1.331138              -3.017083   \n",
      "1                    2.643138              61.162552   \n",
      "2                    1.311999              58.145469   \n",
      "3                    3.245112               7.010640   \n",
      "4                   18.212966              55.446136   \n",
      "..                        ...                    ...   \n",
      "70                   0.144991              99.467693   \n",
      "71                   0.161681              98.759858   \n",
      "72                  -7.679097              -0.646057   \n",
      "73                  31.061189              60.940312   \n",
      "74                  23.382092              60.294255   \n",
      "\n",
      "    purpose_self_consumption_percent  purpose_self_provision_percent  \\\n",
      "0                           5.736409                        0.014254   \n",
      "1                          16.360560                        0.856673   \n",
      "2                          22.096968                        0.870926   \n",
      "3                           5.097241                        0.013484   \n",
      "4                           9.726324                        0.824017   \n",
      "..                               ...                             ...   \n",
      "70                          0.427076                        0.015033   \n",
      "71                          0.965825                        0.011430   \n",
      "72                         -1.188155                        0.095527   \n",
      "73                         10.820570                        2.977336   \n",
      "74                          9.632415                        3.072863   \n",
      "\n",
      "    purpose_animal_food_percent  employment_agriculture_percent  \n",
      "0                     -2.733579                       -5.350359  \n",
      "1                     21.620215                       26.528040  \n",
      "2                     18.886636                       21.177682  \n",
      "3                    -12.121365                      -14.619451  \n",
      "4                     34.003523                       66.399734  \n",
      "..                          ...                             ...  \n",
      "70                     0.090198                       15.101110  \n",
      "71                     0.262887                        2.390695  \n",
      "72                     1.738685                      -12.638564  \n",
      "73                    25.261782                       28.090525  \n",
      "74                    27.000467                       15.451961  \n",
      "\n",
      "[75 rows x 29 columns]\n"
     ]
    }
   ],
   "source": [
    "# Step 2: Load your data\n",
    "df = pd.read_csv(r'C:\\Users\\jcbur\\OneDrive - peruvianbusinesscouncil.org\\csv files\\#11_python_final_assignment\\#5_combined_dataset\\concatenate_clean_agriculture_producer_employment.csv')\n",
    "\n",
    "print(df)"
   ]
  }
 ],
 "metadata": {
  "kernelspec": {
   "display_name": "Python 3",
   "language": "python",
   "name": "python3"
  },
  "language_info": {
   "codemirror_mode": {
    "name": "ipython",
    "version": 3
   },
   "file_extension": ".py",
   "mimetype": "text/x-python",
   "name": "python",
   "nbconvert_exporter": "python",
   "pygments_lexer": "ipython3",
   "version": "3.12.3"
  }
 },
 "nbformat": 4,
 "nbformat_minor": 2
}
